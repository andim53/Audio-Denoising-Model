{
 "cells": [
  {
   "cell_type": "code",
   "execution_count": null,
   "metadata": {},
   "outputs": [],
   "source": [
    "# Importing audio\n",
    "# Making noise input data\n",
    "import os\n",
    "import wave\n",
    "import numpy as np\n",
    "\n",
    "def wav_to_numpy(wav_file):\n",
    "    with wave.open(wav_file, 'r') as wf:\n",
    "        signal = wf.readframes(-1)\n",
    "        \n",
    "        signal = np.frombuffer(signal, dtype='int16')\n",
    "        frames = wf.getnframes()\n",
    "        rate = wf.getframerate()\n",
    "        duration = frames / float(rate)\n",
    "        return signal, duration, rate\n",
    "\n",
    "\n",
    "def process_wav_files(folder_path):\n",
    "    input_data = []\n",
    "    total_duration = 0\n",
    "    for file_name in os.listdir(folder_path):\n",
    "        if file_name.endswith('.wav'):\n",
    "            file_path = os.path.join(folder_path, file_name)\n",
    "            wav_data,duration, rate = wav_to_numpy(file_path)\n",
    "            total_duration += duration\n",
    "            input_data.extend(wav_data)\n",
    "    return np.array(input_data), total_duration, rate\n",
    "\n",
    "noise_input_data,total_duration, rate_noise = process_wav_files('/content/drive/MyDrive/Colab Notebooks/College/artificial intelligence/data/')"
   ]
  }
 ],
 "metadata": {
  "language_info": {
   "name": "python"
  },
  "orig_nbformat": 4
 },
 "nbformat": 4,
 "nbformat_minor": 2
}
